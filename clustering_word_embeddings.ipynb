{
 "cells": [
  {
   "cell_type": "markdown",
   "id": "e8a575e2",
   "metadata": {
    "toc": true
   },
   "source": [
    "<h1>Table of Contents<span class=\"tocSkip\"></span></h1>\n",
    "<div class=\"toc\"><ul class=\"toc-item\"><li><span><a href=\"#Sources-of-Inspiration\" data-toc-modified-id=\"Sources-of-Inspiration-1\">Sources of Inspiration</a></span></li></ul></div>"
   ]
  },
  {
   "cell_type": "code",
   "execution_count": 137,
   "id": "0ce1aff0",
   "metadata": {},
   "outputs": [],
   "source": [
    "reset -fs"
   ]
  },
  {
   "cell_type": "code",
   "execution_count": 138,
   "id": "cbe66242",
   "metadata": {},
   "outputs": [],
   "source": [
    "from   gensim.models   import Word2Vec\n",
    "import numpy   as np\n",
    "import pandas  as pd\n",
    "import seaborn as sns\n",
    "from   sklearn.cluster import KMeans\n",
    "\n",
    "palette = \"Dark2\"\n",
    "%matplotlib inline"
   ]
  },
  {
   "cell_type": "code",
   "execution_count": 139,
   "id": "ce60bb30",
   "metadata": {},
   "outputs": [],
   "source": [
    "docs = [\"I like an apple for breakfast\",\n",
    "        \"A kitten is fluffy\",\n",
    "        \"I had a banana and kale smoothie for breakfast\",\n",
    "        \"My kitten loves kale\"\n",
    "       ]"
   ]
  },
  {
   "cell_type": "code",
   "execution_count": 140,
   "id": "fba02359",
   "metadata": {},
   "outputs": [
    {
     "data": {
      "text/plain": [
       "[['i', 'like', 'an', 'apple', 'for', 'breakfast'],\n",
       " ['a', 'kitten', 'is', 'fluffy'],\n",
       " ['i', 'had', 'a', 'banana', 'and', 'kale', 'smoothie', 'for', 'breakfast'],\n",
       " ['my', 'kitten', 'loves', 'kale']]"
      ]
     },
     "execution_count": 140,
     "metadata": {},
     "output_type": "execute_result"
    }
   ],
   "source": [
    "docs_tokenized = [doc.lower().split() for doc in docs]\n",
    "docs_tokenized"
   ]
  },
  {
   "cell_type": "code",
   "execution_count": 141,
   "id": "933dc1a2",
   "metadata": {},
   "outputs": [],
   "source": [
    "# Train a word embedding model \n",
    "model = Word2Vec(docs_tokenized, \n",
    "                 window=2,        # window refers to the size of our context window\n",
    "                 min_count=1,     # typicially you would drop hapexes (words that only appear once)\n",
    "                 sg=True          # sg means that we are using the Skip-gram architecture\n",
    "      )"
   ]
  },
  {
   "cell_type": "code",
   "execution_count": 142,
   "id": "e36487a2",
   "metadata": {},
   "outputs": [],
   "source": [
    "# Vectorize each document as the mean of its word embeddings \n",
    "docs_vectorized = []\n",
    "\n",
    "for tokens in docs_tokenized:\n",
    "    zero_vector = np.zeros(model.vector_size)\n",
    "    vectors = []\n",
    "    for token in tokens:\n",
    "        if token in model.wv:\n",
    "            try:\n",
    "                vectors.append(model.wv[token])\n",
    "            except KeyError:\n",
    "                continue\n",
    "    if vectors:\n",
    "        vectors = np.asarray(vectors)\n",
    "        avg_vec = vectors.mean(axis=0)\n",
    "        docs_vectorized.append(avg_vec)\n",
    "    else:\n",
    "        docs_vectorized.append(zero_vector)"
   ]
  },
  {
   "cell_type": "code",
   "execution_count": 143,
   "id": "5d0ecbfb",
   "metadata": {},
   "outputs": [
    {
     "data": {
      "text/plain": [
       "['i', 'like', 'an', 'apple', 'for', 'breakfast']"
      ]
     },
     "execution_count": 143,
     "metadata": {},
     "output_type": "execute_result"
    }
   ],
   "source": [
    "docs_tokenized[0]"
   ]
  },
  {
   "cell_type": "code",
   "execution_count": 144,
   "id": "fa907484",
   "metadata": {},
   "outputs": [
    {
     "data": {
      "text/plain": [
       "array([-1.5323978e-03,  1.8032625e-03,  1.6352842e-03,  3.8821131e-03,\n",
       "        1.7316868e-04, -1.6719219e-04,  5.0986181e-03,  1.6076554e-03,\n",
       "       -3.1115592e-03, -1.3074414e-03,  3.2352684e-03,  5.5637903e-04,\n",
       "        7.7540707e-04,  9.4145659e-04,  5.1303877e-04, -9.5915730e-04,\n",
       "        2.7161639e-03,  1.0044362e-03, -3.8050518e-03, -4.7873002e-03,\n",
       "        1.9957188e-03,  1.3720390e-03,  7.3785167e-03,  8.6009718e-04,\n",
       "       -1.5232041e-03,  1.8557607e-03, -3.5904822e-04,  1.1909354e-03,\n",
       "       -3.2544329e-03, -7.7026384e-04,  1.0726246e-03,  6.5136579e-04,\n",
       "        1.2211020e-03, -2.1179162e-03,  8.6180087e-05,  9.4710704e-04,\n",
       "        2.2960283e-05, -1.8263500e-03, -3.2759011e-03, -1.4832253e-03,\n",
       "        1.5926519e-03, -1.9603859e-04, -8.3361240e-04, -5.1416009e-04,\n",
       "        4.0862579e-03, -3.8285166e-04, -2.5757567e-03, -2.1230453e-04,\n",
       "        1.1956191e-03, -9.8432100e-04, -1.4761966e-03, -1.8178571e-04,\n",
       "       -5.1180460e-04, -3.8083112e-03, -1.3816945e-03, -2.3055135e-03,\n",
       "       -2.0657515e-03, -1.7624195e-03,  9.8522229e-05, -1.6629724e-03,\n",
       "        7.9099322e-04, -2.1282327e-03,  3.0246414e-03,  1.2447538e-04,\n",
       "       -1.8764656e-03,  1.2484110e-03, -1.9367845e-03,  5.6191944e-03,\n",
       "       -4.6174186e-03, -9.7476318e-04, -4.1266950e-04,  2.9385549e-03,\n",
       "        3.6026860e-04,  2.3728788e-03,  4.6140671e-05, -1.4207140e-03,\n",
       "        9.7015081e-04,  1.3592703e-03, -1.7570588e-03, -3.2798529e-03,\n",
       "       -2.6007949e-03, -2.1429397e-03,  6.5577979e-04,  2.2186658e-03,\n",
       "       -1.3866721e-03, -2.6544929e-03,  6.4471103e-03, -5.7184447e-05,\n",
       "       -2.4789593e-03, -8.5743767e-04, -1.3976084e-03, -1.3359500e-03,\n",
       "       -1.5581951e-04, -3.7586849e-04,  4.8696096e-03,  8.4374147e-04,\n",
       "        2.0007174e-03, -2.1373427e-03,  1.2458231e-03, -7.0357848e-05],\n",
       "      dtype=float32)"
      ]
     },
     "execution_count": 144,
     "metadata": {},
     "output_type": "execute_result"
    }
   ],
   "source": [
    "docs_vectorized[0]"
   ]
  },
  {
   "cell_type": "code",
   "execution_count": 145,
   "id": "61d2c121",
   "metadata": {},
   "outputs": [],
   "source": [
    "# Cluster each vectorized document \n",
    "X = docs_vectorized\n",
    "k = 3 # Number of clusters \n",
    "kmeans = KMeans(n_clusters=2) # Number of clusters should be 2 or 3\n",
    "kmeans.fit(X);"
   ]
  },
  {
   "cell_type": "code",
   "execution_count": 146,
   "id": "e389e282",
   "metadata": {},
   "outputs": [
    {
     "data": {
      "text/html": [
       "<div>\n",
       "<style scoped>\n",
       "    .dataframe tbody tr th:only-of-type {\n",
       "        vertical-align: middle;\n",
       "    }\n",
       "\n",
       "    .dataframe tbody tr th {\n",
       "        vertical-align: top;\n",
       "    }\n",
       "\n",
       "    .dataframe thead th {\n",
       "        text-align: right;\n",
       "    }\n",
       "</style>\n",
       "<table border=\"1\" class=\"dataframe\">\n",
       "  <thead>\n",
       "    <tr style=\"text-align: right;\">\n",
       "      <th></th>\n",
       "      <th>tokens</th>\n",
       "      <th>cluster</th>\n",
       "    </tr>\n",
       "  </thead>\n",
       "  <tbody>\n",
       "    <tr>\n",
       "      <th>0</th>\n",
       "      <td>i like an apple for breakfast</td>\n",
       "      <td>1</td>\n",
       "    </tr>\n",
       "    <tr>\n",
       "      <th>1</th>\n",
       "      <td>a kitten is fluffy</td>\n",
       "      <td>0</td>\n",
       "    </tr>\n",
       "    <tr>\n",
       "      <th>2</th>\n",
       "      <td>i had a banana and kale smoothie for breakfast</td>\n",
       "      <td>1</td>\n",
       "    </tr>\n",
       "    <tr>\n",
       "      <th>3</th>\n",
       "      <td>my kitten loves kale</td>\n",
       "      <td>0</td>\n",
       "    </tr>\n",
       "  </tbody>\n",
       "</table>\n",
       "</div>"
      ],
      "text/plain": [
       "                                           tokens  cluster\n",
       "0                   i like an apple for breakfast        1\n",
       "1                              a kitten is fluffy        0\n",
       "2  i had a banana and kale smoothie for breakfast        1\n",
       "3                            my kitten loves kale        0"
      ]
     },
     "execution_count": 146,
     "metadata": {},
     "output_type": "execute_result"
    }
   ],
   "source": [
    "df = pd.DataFrame({\n",
    "    \"tokens\": [\" \".join(text) for text in docs_tokenized],\n",
    "    \"cluster\": kmeans.labels_\n",
    "})\n",
    "df"
   ]
  },
  {
   "cell_type": "markdown",
   "id": "0f2a1323",
   "metadata": {},
   "source": [
    "<center><h2>Sources of Inspiration</h2></center>\n",
    "\n",
    "- https://ai.intelligentonlinetools.com/ml/k-means-clustering-example-word2vec/\n",
    "- https://dylancastillo.co/nlp-snippets-cluster-documents-using-word2vec/"
   ]
  }
 ],
 "metadata": {
  "kernelspec": {
   "display_name": "Python 3 (ipykernel)",
   "language": "python",
   "name": "python3"
  },
  "language_info": {
   "codemirror_mode": {
    "name": "ipython",
    "version": 3
   },
   "file_extension": ".py",
   "mimetype": "text/x-python",
   "name": "python",
   "nbconvert_exporter": "python",
   "pygments_lexer": "ipython3",
   "version": "3.8.12"
  },
  "toc": {
   "base_numbering": 1,
   "nav_menu": {},
   "number_sections": false,
   "sideBar": false,
   "skip_h1_title": false,
   "title_cell": "Table of Contents",
   "title_sidebar": "Contents",
   "toc_cell": true,
   "toc_position": {},
   "toc_section_display": true,
   "toc_window_display": false
  }
 },
 "nbformat": 4,
 "nbformat_minor": 5
}
